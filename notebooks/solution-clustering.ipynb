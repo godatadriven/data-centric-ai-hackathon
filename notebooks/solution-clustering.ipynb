{
 "cells": [
  {
   "cell_type": "code",
   "execution_count": 1,
   "id": "c59f5d72-7fa1-46f0-811e-6effde779b20",
   "metadata": {},
   "outputs": [],
   "source": [
    "import torchvision\n",
    "import torch\n",
    "import pandas as pd\n",
    "import numpy as np\n",
    "\n",
    "import matplotlib.pyplot as plt\n",
    "\n",
    "from dcai.score import ScoreTracker\n",
    "from dcai.dataset import TrainDataset, ValidationDataset\n",
    "from typing import List"
   ]
  },
  {
   "cell_type": "code",
   "execution_count": 2,
   "id": "97562051-a4b3-420f-a888-ee60ca2a82aa",
   "metadata": {},
   "outputs": [],
   "source": [
    "# Start a score tracker to track score as function of the number of annotations bought\n",
    "score_tracker = ScoreTracker(team_name=\"example-clustering\")\n",
    "\n",
    "# Get a MNIST train data set\n",
    "train_dataset = TrainDataset()"
   ]
  },
  {
   "cell_type": "code",
   "execution_count": 3,
   "id": "55d1674a-15c1-4cb9-8c82-0efb7351e5b7",
   "metadata": {},
   "outputs": [],
   "source": [
    "mask_generic_class = train_dataset.y == 1\n",
    "idx_generic_class = np.nonzero(mask_generic_class)[0]"
   ]
  },
  {
   "cell_type": "code",
   "execution_count": 4,
   "id": "13ff189f-d7da-42a2-9be4-9466433d8b3f",
   "metadata": {},
   "outputs": [],
   "source": [
    "from sklearn.cluster import KMeans"
   ]
  },
  {
   "cell_type": "code",
   "execution_count": 5,
   "id": "0b7c3d46-eb5f-41ba-ae3e-74563ed8d9e5",
   "metadata": {},
   "outputs": [],
   "source": [
    "x_train = train_dataset.x[mask_generic_class]"
   ]
  },
  {
   "cell_type": "code",
   "execution_count": 6,
   "id": "482b367b-925b-40b3-8284-7e198bce2ef2",
   "metadata": {},
   "outputs": [
    {
     "data": {
      "text/plain": [
       "torch.Size([13007, 28, 28])"
      ]
     },
     "execution_count": 6,
     "metadata": {},
     "output_type": "execute_result"
    }
   ],
   "source": [
    "x_train.shape"
   ]
  },
  {
   "cell_type": "code",
   "execution_count": 7,
   "id": "a8fd49c8-ebbc-4efa-b53b-c471d5ccaba5",
   "metadata": {},
   "outputs": [],
   "source": [
    "x_train = x_train.reshape([len(x_train), -1])"
   ]
  },
  {
   "cell_type": "code",
   "execution_count": 8,
   "id": "b21f29ea-2144-4bce-b8a4-59ac131a31de",
   "metadata": {},
   "outputs": [
    {
     "name": "stderr",
     "output_type": "stream",
     "text": [
      "/Users/marcelraas/PycharmProjects/data-centric-ai-hackathon/venv/lib/python3.10/site-packages/sklearn/cluster/_kmeans.py:1412: FutureWarning: The default value of `n_init` will change from 10 to 'auto' in 1.4. Set the value of `n_init` explicitly to suppress the warning\n",
      "  super()._check_params_vs_input(X, default_n_init=10)\n"
     ]
    }
   ],
   "source": [
    "k_means = KMeans(n_clusters=2).fit(x_train)"
   ]
  },
  {
   "cell_type": "code",
   "execution_count": 9,
   "id": "d67eff39-4ff2-4f72-8732-e7a3026727ba",
   "metadata": {},
   "outputs": [],
   "source": [
    "y_pred = k_means.predict(x_train)"
   ]
  },
  {
   "cell_type": "code",
   "execution_count": 10,
   "id": "05cbb20a-0349-4716-bc2a-93e5a43cdfba",
   "metadata": {},
   "outputs": [],
   "source": [
    "idx_pred0 = np.where(y_pred == 0)[0]\n",
    "idx_pred1 = np.where(y_pred == 1)[0]"
   ]
  },
  {
   "cell_type": "code",
   "execution_count": 11,
   "id": "6620c5f9-bbeb-4735-ae38-5d51f0bb997b",
   "metadata": {},
   "outputs": [],
   "source": [
    "labels_for_cluster0 = train_dataset.buy_annotations(idx_generic_class[idx_pred0][:10])"
   ]
  },
  {
   "cell_type": "code",
   "execution_count": 12,
   "id": "f68c868f-3a92-4c8a-9062-1b7cd3d45617",
   "metadata": {},
   "outputs": [],
   "source": [
    "labels_for_cluster1 = train_dataset.buy_annotations(idx_generic_class[idx_pred1][:10])"
   ]
  },
  {
   "cell_type": "code",
   "execution_count": 13,
   "id": "f1d4be44-52e2-457f-be03-4f149e832642",
   "metadata": {},
   "outputs": [
    {
     "name": "stdout",
     "output_type": "stream",
     "text": [
      "Correct labels in cluster 0: [1, 1, 1, 1, 1, 1, 7, 1, 1, 1]\n",
      "Dominant label: 1\n"
     ]
    }
   ],
   "source": [
    "print(f\"Correct labels in cluster 0: {labels_for_cluster0}\")\n",
    "cluster0_label = pd.Series(labels_for_cluster0).value_counts().index[0]\n",
    "print(f\"Dominant label: {cluster0_label}\")"
   ]
  },
  {
   "cell_type": "code",
   "execution_count": 14,
   "id": "4d842803-99c5-4f72-8a77-1ff37327b59e",
   "metadata": {},
   "outputs": [
    {
     "name": "stdout",
     "output_type": "stream",
     "text": [
      "Correct labels in cluster 1: [7, 7, 7, 7, 7, 7, 7, 7, 7, 7]\n",
      "Dominant label: 7\n"
     ]
    }
   ],
   "source": [
    "print(f\"Correct labels in cluster 1: {labels_for_cluster1}\")\n",
    "cluster1_label = pd.Series(labels_for_cluster1).value_counts().index[0]\n",
    "print(f\"Dominant label: {cluster1_label}\")"
   ]
  },
  {
   "cell_type": "code",
   "execution_count": 15,
   "id": "c640e214-b2b7-46b3-95ae-4702f0405eb1",
   "metadata": {},
   "outputs": [],
   "source": [
    "train_dataset.y[idx_generic_class[idx_pred0][10:]] = cluster0_label\n",
    "train_dataset.y[idx_generic_class[idx_pred1][10:]] = cluster1_label"
   ]
  },
  {
   "cell_type": "code",
   "execution_count": 16,
   "id": "53849c8c-58cb-4aac-8850-c49a3529c370",
   "metadata": {},
   "outputs": [
    {
     "name": "stderr",
     "output_type": "stream",
     "text": [
      "GPU available: True (mps), used: True\n",
      "TPU available: False, using: 0 TPU cores\n",
      "IPU available: False, using: 0 IPUs\n",
      "HPU available: False, using: 0 HPUs\n",
      "/Users/marcelraas/PycharmProjects/data-centric-ai-hackathon/venv/lib/python3.10/site-packages/pytorch_lightning/trainer/connectors/logger_connector/logger_connector.py:67: UserWarning: Starting from v1.9.0, `tensorboardX` has been removed as a dependency of the `pytorch_lightning` package, due to potential conflicts with other packages in the ML ecosystem. For this reason, `logger=True` will use `CSVLogger` as the default logger, unless the `tensorboard` or `tensorboardX` packages are found. Please `pip install lightning[extra]` or one of them to enable TensorBoard support by default\n",
      "  warning_cache.warn(\n"
     ]
    },
    {
     "data": {
      "text/html": [
       "<pre style=\"white-space:pre;overflow-x:auto;line-height:normal;font-family:Menlo,'DejaVu Sans Mono',consolas,'Courier New',monospace\">┏━━━┳━━━━━━━━━━━━━┳━━━━━━━━━━━━━━━━━━━━━━━━━━━┳━━━━━━━━┓\n",
       "┃<span style=\"color: #800080; text-decoration-color: #800080; font-weight: bold\">   </span>┃<span style=\"color: #800080; text-decoration-color: #800080; font-weight: bold\"> Name        </span>┃<span style=\"color: #800080; text-decoration-color: #800080; font-weight: bold\"> Type                      </span>┃<span style=\"color: #800080; text-decoration-color: #800080; font-weight: bold\"> Params </span>┃\n",
       "┡━━━╇━━━━━━━━━━━━━╇━━━━━━━━━━━━━━━━━━━━━━━━━━━╇━━━━━━━━┩\n",
       "│<span style=\"color: #7f7f7f; text-decoration-color: #7f7f7f\"> 0 </span>│ model       │ SimpleMnistModel          │  1.2 M │\n",
       "│<span style=\"color: #7f7f7f; text-decoration-color: #7f7f7f\"> 1 </span>│ conf_matrix │ MulticlassConfusionMatrix │      0 │\n",
       "│<span style=\"color: #7f7f7f; text-decoration-color: #7f7f7f\"> 2 </span>│ precision   │ MulticlassPrecision       │      0 │\n",
       "│<span style=\"color: #7f7f7f; text-decoration-color: #7f7f7f\"> 3 </span>│ recall      │ MulticlassRecall          │      0 │\n",
       "└───┴─────────────┴───────────────────────────┴────────┘\n",
       "</pre>\n"
      ],
      "text/plain": [
       "┏━━━┳━━━━━━━━━━━━━┳━━━━━━━━━━━━━━━━━━━━━━━━━━━┳━━━━━━━━┓\n",
       "┃\u001b[1;35m \u001b[0m\u001b[1;35m \u001b[0m\u001b[1;35m \u001b[0m┃\u001b[1;35m \u001b[0m\u001b[1;35mName       \u001b[0m\u001b[1;35m \u001b[0m┃\u001b[1;35m \u001b[0m\u001b[1;35mType                     \u001b[0m\u001b[1;35m \u001b[0m┃\u001b[1;35m \u001b[0m\u001b[1;35mParams\u001b[0m\u001b[1;35m \u001b[0m┃\n",
       "┡━━━╇━━━━━━━━━━━━━╇━━━━━━━━━━━━━━━━━━━━━━━━━━━╇━━━━━━━━┩\n",
       "│\u001b[2m \u001b[0m\u001b[2m0\u001b[0m\u001b[2m \u001b[0m│ model       │ SimpleMnistModel          │  1.2 M │\n",
       "│\u001b[2m \u001b[0m\u001b[2m1\u001b[0m\u001b[2m \u001b[0m│ conf_matrix │ MulticlassConfusionMatrix │      0 │\n",
       "│\u001b[2m \u001b[0m\u001b[2m2\u001b[0m\u001b[2m \u001b[0m│ precision   │ MulticlassPrecision       │      0 │\n",
       "│\u001b[2m \u001b[0m\u001b[2m3\u001b[0m\u001b[2m \u001b[0m│ recall      │ MulticlassRecall          │      0 │\n",
       "└───┴─────────────┴───────────────────────────┴────────┘\n"
      ]
     },
     "metadata": {},
     "output_type": "display_data"
    },
    {
     "data": {
      "text/html": [
       "<pre style=\"white-space:pre;overflow-x:auto;line-height:normal;font-family:Menlo,'DejaVu Sans Mono',consolas,'Courier New',monospace\"><span style=\"font-weight: bold\">Trainable params</span>: 1.2 M                                                                                            \n",
       "<span style=\"font-weight: bold\">Non-trainable params</span>: 0                                                                                            \n",
       "<span style=\"font-weight: bold\">Total params</span>: 1.2 M                                                                                                \n",
       "<span style=\"font-weight: bold\">Total estimated model params size (MB)</span>: 4                                                                          \n",
       "</pre>\n"
      ],
      "text/plain": [
       "\u001b[1mTrainable params\u001b[0m: 1.2 M                                                                                            \n",
       "\u001b[1mNon-trainable params\u001b[0m: 0                                                                                            \n",
       "\u001b[1mTotal params\u001b[0m: 1.2 M                                                                                                \n",
       "\u001b[1mTotal estimated model params size (MB)\u001b[0m: 4                                                                          \n"
      ]
     },
     "metadata": {},
     "output_type": "display_data"
    },
    {
     "data": {
      "application/vnd.jupyter.widget-view+json": {
       "model_id": "e6e8985af809491aa58cfccf5b113362",
       "version_major": 2,
       "version_minor": 0
      },
      "text/plain": [
       "Output()"
      ]
     },
     "metadata": {},
     "output_type": "display_data"
    },
    {
     "data": {
      "text/html": [
       "<pre style=\"white-space:pre;overflow-x:auto;line-height:normal;font-family:Menlo,'DejaVu Sans Mono',consolas,'Courier New',monospace\">/Users/marcelraas/PycharmProjects/data-centric-ai-hackathon/venv/lib/python3.10/site-packages/pytorch_lightning/tra\n",
       "iner/connectors/data_connector.py:438: PossibleUserWarning: The dataloader, val_dataloader, does not have many \n",
       "workers which may be a bottleneck. Consider increasing the value of the `num_workers` argument` (try 10 which is \n",
       "the number of cpus on this machine) in the `DataLoader` init to improve performance.\n",
       "  rank_zero_warn(\n",
       "</pre>\n"
      ],
      "text/plain": [
       "/Users/marcelraas/PycharmProjects/data-centric-ai-hackathon/venv/lib/python3.10/site-packages/pytorch_lightning/tra\n",
       "iner/connectors/data_connector.py:438: PossibleUserWarning: The dataloader, val_dataloader, does not have many \n",
       "workers which may be a bottleneck. Consider increasing the value of the `num_workers` argument` (try 10 which is \n",
       "the number of cpus on this machine) in the `DataLoader` init to improve performance.\n",
       "  rank_zero_warn(\n"
      ]
     },
     "metadata": {},
     "output_type": "display_data"
    },
    {
     "data": {
      "text/html": [
       "<pre style=\"white-space:pre;overflow-x:auto;line-height:normal;font-family:Menlo,'DejaVu Sans Mono',consolas,'Courier New',monospace\">/Users/marcelraas/PycharmProjects/data-centric-ai-hackathon/venv/lib/python3.10/site-packages/torchmetrics/function\n",
       "al/classification/stat_scores.py:408: UserWarning: MPS: no support for int64 reduction ops, casting it to int32 \n",
       "(Triggered internally at \n",
       "/Users/runner/work/pytorch/pytorch/pytorch/aten/src/ATen/native/mps/operations/ReduceOps.mm:144.)\n",
       "  fp = confmat.sum(0) - tp\n",
       "</pre>\n"
      ],
      "text/plain": [
       "/Users/marcelraas/PycharmProjects/data-centric-ai-hackathon/venv/lib/python3.10/site-packages/torchmetrics/function\n",
       "al/classification/stat_scores.py:408: UserWarning: MPS: no support for int64 reduction ops, casting it to int32 \n",
       "(Triggered internally at \n",
       "/Users/runner/work/pytorch/pytorch/pytorch/aten/src/ATen/native/mps/operations/ReduceOps.mm:144.)\n",
       "  fp = confmat.sum(0) - tp\n"
      ]
     },
     "metadata": {},
     "output_type": "display_data"
    },
    {
     "data": {
      "text/html": [
       "<pre style=\"white-space:pre;overflow-x:auto;line-height:normal;font-family:Menlo,'DejaVu Sans Mono',consolas,'Courier New',monospace\">/Users/marcelraas/PycharmProjects/data-centric-ai-hackathon/venv/lib/python3.10/site-packages/pytorch_lightning/tra\n",
       "iner/connectors/data_connector.py:438: PossibleUserWarning: The dataloader, train_dataloader, does not have many \n",
       "workers which may be a bottleneck. Consider increasing the value of the `num_workers` argument` (try 10 which is \n",
       "the number of cpus on this machine) in the `DataLoader` init to improve performance.\n",
       "  rank_zero_warn(\n",
       "</pre>\n"
      ],
      "text/plain": [
       "/Users/marcelraas/PycharmProjects/data-centric-ai-hackathon/venv/lib/python3.10/site-packages/pytorch_lightning/tra\n",
       "iner/connectors/data_connector.py:438: PossibleUserWarning: The dataloader, train_dataloader, does not have many \n",
       "workers which may be a bottleneck. Consider increasing the value of the `num_workers` argument` (try 10 which is \n",
       "the number of cpus on this machine) in the `DataLoader` init to improve performance.\n",
       "  rank_zero_warn(\n"
      ]
     },
     "metadata": {},
     "output_type": "display_data"
    },
    {
     "name": "stderr",
     "output_type": "stream",
     "text": [
      "`Trainer.fit` stopped: `max_epochs=1` reached.\n"
     ]
    },
    {
     "data": {
      "text/html": [
       "<pre style=\"white-space:pre;overflow-x:auto;line-height:normal;font-family:Menlo,'DejaVu Sans Mono',consolas,'Courier New',monospace\"></pre>\n"
      ],
      "text/plain": []
     },
     "metadata": {},
     "output_type": "display_data"
    },
    {
     "data": {
      "text/html": [
       "<pre style=\"white-space:pre;overflow-x:auto;line-height:normal;font-family:Menlo,'DejaVu Sans Mono',consolas,'Courier New',monospace\">\n",
       "</pre>\n"
      ],
      "text/plain": [
       "\n"
      ]
     },
     "metadata": {},
     "output_type": "display_data"
    },
    {
     "data": {
      "text/plain": [
       "(LitSimpleMnist(\n",
       "   (model): SimpleMnistModel(\n",
       "     (conv1): Conv2d(1, 32, kernel_size=(3, 3), stride=(1, 1))\n",
       "     (conv2): Conv2d(32, 64, kernel_size=(3, 3), stride=(1, 1))\n",
       "     (dropout1): Dropout(p=0.25, inplace=False)\n",
       "     (dropout2): Dropout(p=0.5, inplace=False)\n",
       "     (fc1): Linear(in_features=9216, out_features=128, bias=True)\n",
       "     (fc2): Linear(in_features=128, out_features=10, bias=True)\n",
       "   )\n",
       "   (conf_matrix): MulticlassConfusionMatrix()\n",
       "   (precision): MulticlassPrecision()\n",
       "   (recall): MulticlassRecall()\n",
       " ),\n",
       " Metrics(n_annotations_bought=20, precision_class_1=0.91389114, recall_class_1=0.9911894, precision_class_7=0.9624609, recall_class_7=0.89785993))"
      ]
     },
     "execution_count": 16,
     "metadata": {},
     "output_type": "execute_result"
    },
    {
     "data": {
      "image/png": "[encoded data removed]",
      "text/plain": [
       "<Figure size 640x480 with 1 Axes>"
      ]
     },
     "metadata": {},
     "output_type": "display_data"
    }
   ],
   "source": [
    "score_tracker.train_and_score_model(train_dataset)"
   ]
  },
  {
   "cell_type": "code",
   "execution_count": 17,
   "id": "28d5f5a8-3562-4883-b234-68b794d37ccb",
   "metadata": {},
   "outputs": [
    {
     "data": {
      "image/png": "[encoded data removed]",
      "text/plain": [
       "<Figure size 1600x800 with 2 Axes>"
      ]
     },
     "metadata": {},
     "output_type": "display_data"
    }
   ],
   "source": [
    "score_tracker.plot_scores()"
   ]
  }
 ],
 "metadata": {
  "kernelspec": {
   "display_name": "Python 3 (ipykernel)",
   "language": "python",
   "name": "python3"
  },
  "language_info": {
   "codemirror_mode": {
    "name": "ipython",
    "version": 3
   },
   "file_extension": ".py",
   "mimetype": "text/x-python",
   "name": "python",
   "nbconvert_exporter": "python",
   "pygments_lexer": "ipython3",
   "version": "3.10.8"
  }
 },
 "nbformat": 4,
 "nbformat_minor": 5
}
