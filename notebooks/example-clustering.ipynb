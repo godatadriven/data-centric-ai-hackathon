{
 "cells": [
  {
   "cell_type": "code",
   "execution_count": null,
   "id": "c59f5d72-7fa1-46f0-811e-6effde779b20",
   "metadata": {},
   "outputs": [],
   "source": [
    "import torchvision\n",
    "import torch\n",
    "import pandas as pd\n",
    "import numpy as np\n",
    "\n",
    "import matplotlib.pyplot as plt\n",
    "\n",
    "from dcai.score import ScoreTracker\n",
    "from dcai.dataset import TrainDataset, ValidationDataset\n",
    "from typing import List"
   ]
  },
  {
   "cell_type": "code",
   "execution_count": null,
   "id": "97562051-a4b3-420f-a888-ee60ca2a82aa",
   "metadata": {},
   "outputs": [],
   "source": [
    "# Start a score tracker to track score as function of the number of annotations bought\n",
    "score_tracker = ScoreTracker(team_name=\"example-clustering\")\n",
    "\n",
    "# Get a MNIST train data set\n",
    "train_dataset = TrainDataset()"
   ]
  },
  {
   "cell_type": "markdown",
   "id": "ce06d984-c462-4308-9e24-99529c7a1433",
   "metadata": {},
   "source": [
    "### Indices tracking\n",
    "\n",
    "We often need to track indices in the original dataset which can sometimes be a bit challenging. Below an example is given how tracking of indices can be done. You can use the `np.nonzero` or `np.where` function for this.\n",
    "\n",
    "`mask_generic_class` is a boolean vector with `True` and `False` for those datapoints that we want to select. In this case we want to select the class generic class `1`.\n",
    "\n",
    "`idx_generic_class` is a vector with all the indices to the element that we select by masking. So in this case, the indices to all datapoints with the generic class `1`."
   ]
  },
  {
   "cell_type": "code",
   "execution_count": null,
   "id": "55d1674a-15c1-4cb9-8c82-0efb7351e5b7",
   "metadata": {},
   "outputs": [],
   "source": [
    "mask_generic_class = train_dataset.y == 1\n",
    "idx_generic_class = np.nonzero(mask_generic_class)[0]\n",
    "\n",
    "print(\"The first 10 elements of these vectors:\")\n",
    "print(f\"train_dataset.y    = {train_dataset.y[:10]}\")\n",
    "print(f\"mask_generic_class = {mask_generic_class[:10]}\")\n",
    "print(f\"idx_generic_class  = {idx_generic_class[:10]}\")"
   ]
  },
  {
   "cell_type": "markdown",
   "id": "61943bc4-f583-46dd-9489-39c2da2e7033",
   "metadata": {},
   "source": [
    "You can also consider creating a small pandas dataframe where you do the bookkeeping of all indices:"
   ]
  },
  {
   "cell_type": "code",
   "execution_count": null,
   "id": "ae53deac-0da3-424e-a359-6465ae8c2a8b",
   "metadata": {},
   "outputs": [],
   "source": [
    "df_bookkeeper = (\n",
    "    pd.DataFrame({\n",
    "        \"current_label\": train_dataset.y,\n",
    "        \"bought\": False  \n",
    "    })\n",
    "    .assign(mask_generic_class=lambda df: df.current_label == 1)\n",
    ")"
   ]
  },
  {
   "cell_type": "code",
   "execution_count": null,
   "id": "0a8200c1-7904-432f-ac95-b5634aadc8f8",
   "metadata": {},
   "outputs": [],
   "source": [
    "# The dataframe index is then the sample identifier.\n",
    "df_bookkeeper.loc[lambda df: df.mask_generic_class].index"
   ]
  },
  {
   "cell_type": "code",
   "execution_count": null,
   "id": "45b1b87e-83f4-47d2-9579-1f8d922d38f4",
   "metadata": {},
   "outputs": [],
   "source": [
    "# You can update the bought column by running:\n",
    "for i in train_dataset.annotations_bought:\n",
    "    df_bookkeeper.bought[i] = True"
   ]
  },
  {
   "cell_type": "markdown",
   "id": "ce20ec94-3809-4d1e-9fb2-1e998dbf6d7f",
   "metadata": {},
   "source": [
    "## Hands-on: cluster the generic class into two clusters\n",
    "\n",
    "* Train a clustering algorithm with 2 classes on the generic class\n",
    "* Predict using the clustering algorithm. Find out which cluster is which class (e.g. by buying some annotations)\n",
    "* Retrain using the labels from the clustering algorithm"
   ]
  },
  {
   "cell_type": "code",
   "execution_count": null,
   "id": "13ff189f-d7da-42a2-9be4-9466433d8b3f",
   "metadata": {},
   "outputs": [],
   "source": [
    "from sklearn.cluster import ..."
   ]
  },
  {
   "cell_type": "code",
   "execution_count": null,
   "id": "05cbb20a-0349-4716-bc2a-93e5a43cdfba",
   "metadata": {},
   "outputs": [],
   "source": [
    "sample_ids_for_cluster0 = ...\n",
    "sample_ids_for_cluster1 = ..."
   ]
  },
  {
   "cell_type": "code",
   "execution_count": null,
   "id": "aad1d111-6ba6-4527-9e53-35f33505c03b",
   "metadata": {},
   "outputs": [],
   "source": [
    "labels_for_cluster0 = train_dataset.buy_annotations(sample_ids_for_cluster0)\n",
    "labels_for_cluster1 = train_dataset.buy_annotations(sample_ids_for_cluster1)"
   ]
  },
  {
   "cell_type": "code",
   "execution_count": null,
   "id": "176fe135-5d12-407a-be91-eecac49d47fa",
   "metadata": {},
   "outputs": [],
   "source": [
    "# Assign the labels from the original training dataset to the labels from clustering\n",
    "train_dataset.y = ..."
   ]
  },
  {
   "cell_type": "code",
   "execution_count": null,
   "id": "53849c8c-58cb-4aac-8850-c49a3529c370",
   "metadata": {},
   "outputs": [],
   "source": [
    "# Train a new model\n",
    "score_tracker.train_and_score_model(train_dataset)"
   ]
  },
  {
   "cell_type": "code",
   "execution_count": null,
   "id": "28d5f5a8-3562-4883-b234-68b794d37ccb",
   "metadata": {},
   "outputs": [],
   "source": [
    "fitted_model, metrics = score_tracker.plot_scores()"
   ]
  },
  {
   "cell_type": "markdown",
   "id": "9a46f697-a8d8-4d54-beb5-a391474b4a14",
   "metadata": {},
   "source": [
    "## Where to go from here?\n",
    "\n",
    "Can you spot datapoints in the train data that are harder to predict? \n",
    "\n",
    "Hint: use the raw probability outputs of the fitted_model. What does it mean if a probability of 0.5 is predicted for a specific class?"
   ]
  }
 ],
 "metadata": {
  "kernelspec": {
   "display_name": "Python 3 (ipykernel)",
   "language": "python",
   "name": "python3"
  },
  "language_info": {
   "codemirror_mode": {
    "name": "ipython",
    "version": 3
   },
   "file_extension": ".py",
   "mimetype": "text/x-python",
   "name": "python",
   "nbconvert_exporter": "python",
   "pygments_lexer": "ipython3",
   "version": "3.10.8"
  }
 },
 "nbformat": 4,
 "nbformat_minor": 5
}
